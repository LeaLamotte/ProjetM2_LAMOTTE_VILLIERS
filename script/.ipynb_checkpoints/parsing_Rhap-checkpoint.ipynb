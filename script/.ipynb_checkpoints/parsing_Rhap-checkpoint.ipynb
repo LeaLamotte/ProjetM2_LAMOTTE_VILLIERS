{
 "cells": [
  {
   "cell_type": "code",
   "execution_count": 1,
   "metadata": {
    "collapsed": true
   },
   "outputs": [],
   "source": [
    "def structure(annotations):\n",
    "    arbre={}\n",
    "    for ligne in annotations:#Pour chaque ligne du fichier\n",
    "        #arbre.setdefault(int(ligne[0]), []).append( (ligne[1], ligne[2], ligne[3]) )\n",
    "        arbre.setdefault(int(ligne[0]), []) #On créer une entrée par arbre\n",
    "        #Chaque arbre prend une liste de mots (un mot est une liste de tokens)\n",
    "        if ligne[2]=='B':\n",
    "            arbre[int(ligne[0])].append( [(ligne[1], ligne[3])] )\n",
    "        elif ligne[2]=='I':\n",
    "            arbre[int(ligne[0])][-1].append( (ligne[1], ligne[3]) )\n",
    "    return arbre"
   ]
  },
  {
   "cell_type": "code",
   "execution_count": 18,
   "metadata": {
    "collapsed": true
   },
   "outputs": [],
   "source": [
    "def structure2xml(structure):\n",
    "    texte=''\n",
    "    for arbre in sorted(structure.keys()):#Pour chaque arbre/cle\n",
    "        texte+='    <arbre n=\"'+str(arbre)+'\">\\n'\n",
    "        for mot in structure[arbre]:#Pour chaque liste de tokens dans cet arbre\n",
    "            texte+='        <mot pos=\"'+mot[0][1]+'\">\\n'\n",
    "            for token in mot:\n",
    "                if not token[0].isspace() and \n",
    "                texte+='            <token>'+token[0]+'</token>\\n'\n",
    "            texte+='        </mot>\\n'\n",
    "        texte+='    </arbre>\\n'\n",
    "    return texte"
   ]
  },
  {
   "cell_type": "code",
   "execution_count": 22,
   "metadata": {
    "collapsed": true
   },
   "outputs": [],
   "source": [
    "import os, re\n",
    "\n",
    "ligneRG=re.compile(\"[^\\t]*\\t([^\\t]*)\\t[^\\t]*\\t([^\\t]*)\\t[^\\t]*\\t([^\\t]*)\\t[^\\t]*\\t[^\\t]*\\t([^\\t]*)\\t[^\\t]*\\t[^\\t]*\\t[^\\t]*\\t[^\\t]*\\t[^\\t]*\\t[^\\t]*\\t[^\\t]*\\t[^\\t]*\\t[^\\t]*\\t[^\\t]*\\t[^\\t]*\\t[^\\t]*\\t[^\\t]*\\t[^\\t]*\\t[^\\t]*\\t[^\\t]*\\t[^\\t]*\\t[^\\t]*\\t[^\\t]*\\t[^\\t]*\\t[^\\t]*\\t[^\\t]*\\t[^\\t]*\\t[^\\t]*\\t[^\\t]*\\t[^\\t]*\\t[^\\t]*\\t[^\\t]*\\t[^\\t]*\\t[^\\t]*\\t[^\\t]*\\t[^\\t]*\\t[^\\t]*\\t[^\\t]*\\t[^\\t]*\\t[^\\t]*\\t[^\\t]*\\t[^\\t]*\\t[^\\t]*\\t[^\\t]*\\t[^\\t]*\\t[^\\t]*\\t[^\\t]*\\t[^\\t]*\\t[^\\t]*\\t[^\\t]*\\t[^\\t]*\\t[^\\t]*\\t[^\\t]*\\t[^\\t]*\\t[^\\t]*\\t[^\\t]*\\t[^\\t]*\\t[^\\t]*\")\n",
    "\n",
    "with open('Rhapsodie.xml', 'w', encoding='UTF-8') as sortie:\n",
    "    sortie.write('<root>\\n')\n",
    "    for dossier, sous_dossiers, fichiers in os.walk('../data/Rhapsodie'):\n",
    "        for fichier in fichiers:\n",
    "            if fichier.endswith('.tabular'):#Pour tous les fichiers tabulaire du repertoire Rhapsodie\n",
    "                with open(os.path.join(dossier, fichier), 'r', encoding='UTF-8') as file :#On l'ouvre\n",
    "                    texte=file.read()#On le lit\n",
    "                    listLignes=ligneRG.findall(texte)#On récupère ce qui nous interesse\n",
    "                    #On retire ce qui ne nous interesse pas\n",
    "                    annotations = [i for i in listLignes if i != ('', ' ', '', '') and i != ('', '', '', '') and i!=('Tree_ID', 'Token', 'Word_span', 'POS')]\n",
    "                    #On hierarchise les annotations\n",
    "                    root=structure(annotations)\n",
    "                    xml=structure2xml(root)\n",
    "                sortie.write('<fichier'+fichier+'/>\\n')\n",
    "                sortie.write(xml)\n",
    "    sortie.write('</root>') "
   ]
  },
  {
   "cell_type": "markdown",
   "metadata": {},
   "source": [
    "## A faire\n",
    "- harmoniser les catégories grammaticales  \n",
    "- changer l'adresse d'écriture du fichier de sortie  \n",
    "- nettoyer la ponctuation, les esperluettes et les espaces"
   ]
  },
  {
   "cell_type": "code",
   "execution_count": null,
   "metadata": {
    "collapsed": true
   },
   "outputs": [],
   "source": []
  }
 ],
 "metadata": {
  "kernelspec": {
   "display_name": "Python 3",
   "language": "python",
   "name": "python3"
  },
  "language_info": {
   "codemirror_mode": {
    "name": "ipython",
    "version": 3
   },
   "file_extension": ".py",
   "mimetype": "text/x-python",
   "name": "python",
   "nbconvert_exporter": "python",
   "pygments_lexer": "ipython3",
   "version": "3.6.1"
  }
 },
 "nbformat": 4,
 "nbformat_minor": 2
}

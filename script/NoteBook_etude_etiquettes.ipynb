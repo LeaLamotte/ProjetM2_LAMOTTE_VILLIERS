{
 "cells": [
  {
   "cell_type": "code",
   "execution_count": 1,
   "metadata": {
    "collapsed": true
   },
   "outputs": [],
   "source": [
    "def structure(annotations):\n",
    "    arbre={}\n",
    "    for ligne in annotations:#Pour chaque ligne du fichier\n",
    "        #arbre.setdefault(int(ligne[0]), []).append( (ligne[1], ligne[2], ligne[3]) )\n",
    "        arbre.setdefault(int(ligne[0]), []) #On créer une entrée par arbre\n",
    "        #Chaque arbre prend une liste de mots (un mot est une liste de tokens)\n",
    "        if ligne[2]=='B':\n",
    "            arbre[int(ligne[0])].append( [(ligne[1], ligne[3])] )\n",
    "        elif ligne[2]=='I':\n",
    "            arbre[int(ligne[0])][-1].append( (ligne[1], ligne[3]) )\n",
    "    return arbre"
   ]
  },
  {
   "cell_type": "code",
   "execution_count": 2,
   "metadata": {
    "collapsed": true
   },
   "outputs": [],
   "source": [
    "def structure2xml(structure):\n",
    "    texte=''\n",
    "    for arbre in sorted(structure.keys()):#Pour chaque arbre/cle\n",
    "        texte+='    <arbre n=\"'+str(arbre)+'\">\\n'\n",
    "        for mot in structure[arbre]:#Pour chaque liste de tokens dans cet arbre\n",
    "            texte+='        <mot pos=\"'+mot[0][1]+'\">\\n'\n",
    "            for token in mot:\n",
    "                if not token[0].isspace():\n",
    "                    texte+='            <token>'+token[0]+'</token>\\n'\n",
    "            texte+='        </mot>\\n'\n",
    "        texte+='    </arbre>\\n'\n",
    "    return texte"
   ]
  },
  {
   "cell_type": "code",
   "execution_count": 3,
   "metadata": {
    "collapsed": true
   },
   "outputs": [],
   "source": [
    "import os, re\n",
    "\n",
    "ligneRG=re.compile(\"[^\\t]*\\t([^\\t]*)\\t[^\\t]*\\t([^\\t]*)\\t[^\\t]*\\t([^\\t]*)\\t[^\\t]*\\t[^\\t]*\\t([^\\t]*)\\t[^\\t]*\\t[^\\t]*\\t[^\\t]*\\t[^\\t]*\\t[^\\t]*\\t[^\\t]*\\t[^\\t]*\\t[^\\t]*\\t[^\\t]*\\t[^\\t]*\\t[^\\t]*\\t[^\\t]*\\t[^\\t]*\\t[^\\t]*\\t[^\\t]*\\t[^\\t]*\\t[^\\t]*\\t[^\\t]*\\t[^\\t]*\\t[^\\t]*\\t[^\\t]*\\t[^\\t]*\\t[^\\t]*\\t[^\\t]*\\t[^\\t]*\\t[^\\t]*\\t[^\\t]*\\t[^\\t]*\\t[^\\t]*\\t[^\\t]*\\t[^\\t]*\\t[^\\t]*\\t[^\\t]*\\t[^\\t]*\\t[^\\t]*\\t[^\\t]*\\t[^\\t]*\\t[^\\t]*\\t[^\\t]*\\t[^\\t]*\\t[^\\t]*\\t[^\\t]*\\t[^\\t]*\\t[^\\t]*\\t[^\\t]*\\t[^\\t]*\\t[^\\t]*\\t[^\\t]*\\t[^\\t]*\\t[^\\t]*\\t[^\\t]*\\t[^\\t]*\\t[^\\t]*\\t[^\\t]*\")\n",
    "\n",
    "with open('Rhapsodie.xml', 'w', encoding='UTF-8') as sortie:\n",
    "    sortie.write('<root>\\n')\n",
    "    for dossier, sous_dossiers, fichiers in os.walk('../data/Rhapsodie'):\n",
    "        for fichier in fichiers:\n",
    "            if fichier.endswith('.tabular'):#Pour tous les fichiers tabulaire du repertoire Rhapsodie\n",
    "                with open(os.path.join(dossier, fichier), 'r', encoding='UTF-8') as file :#On l'ouvre\n",
    "                    texte=file.read()#On le lit\n",
    "                    listLignes=ligneRG.findall(texte)#On récupère ce qui nous interesse\n",
    "                    #On retire ce qui ne nous interesse pas\n",
    "                    annotations = [i for i in listLignes if i != ('', ' ', '', '') and i != ('', '', '', '') and i!=('Tree_ID', 'Token', 'Word_span', 'POS')]\n",
    "                    #On hierarchise les annotations\n",
    "                    root=structure(annotations)\n",
    "                    xml=structure2xml(root)\n",
    "                sortie.write('<fichier'+fichier+'/>\\n')\n",
    "                sortie.write(xml)\n",
    "    sortie.write('</root>') "
   ]
  },
  {
   "cell_type": "markdown",
   "metadata": {},
   "source": [
    "## A faire\n",
    "- harmoniser les catégories grammaticales  \n",
    "- changer l'adresse d'écriture du fichier de sortie  \n",
    "- nettoyer la ponctuation, les esperluettes et les espaces"
   ]
  },
  {
   "cell_type": "markdown",
   "metadata": {
    "collapsed": true
   },
   "source": [
    "**Inventaire des catégories **"
   ]
  },
  {
   "cell_type": "code",
   "execution_count": 9,
   "metadata": {},
   "outputs": [
    {
     "name": "stdout",
     "output_type": "stream",
     "text": [
      "combien\n",
      "comment\n",
      "dont\n",
      "laquelle\n",
      "lequel\n",
      "lesquelles\n",
      "n\n",
      "où\n",
      "pourquoi\n",
      "qu\n",
      "quand\n",
      "que\n",
      "quel\n",
      "quelle\n",
      "quelles\n",
      "quels\n",
      "qui\n",
      "quoi\n",
      "qu~\n"
     ]
    }
   ],
   "source": [
    "import os, re\n",
    "#La variable qui indique où enregistrer le produit du prgm\n",
    "ligneRG=re.compile(\"[^\\t]*\\t([^\\t]*)\\t[^\\t]*\\t([^\\t]*)\\t[^\\t]*\\t([^\\t]*)\\t[^\\t]*\\t[^\\t]*\\t([^\\t]*)\\t[^\\t]*\\t[^\\t]*\\t[^\\t]*\\t[^\\t]*\\t[^\\t]*\\t[^\\t]*\\t[^\\t]*\\t[^\\t]*\\t[^\\t]*\\t[^\\t]*\\t[^\\t]*\\t[^\\t]*\\t[^\\t]*\\t[^\\t]*\\t[^\\t]*\\t[^\\t]*\\t[^\\t]*\\t[^\\t]*\\t[^\\t]*\\t[^\\t]*\\t[^\\t]*\\t[^\\t]*\\t[^\\t]*\\t[^\\t]*\\t[^\\t]*\\t[^\\t]*\\t[^\\t]*\\t[^\\t]*\\t[^\\t]*\\t[^\\t]*\\t[^\\t]*\\t[^\\t]*\\t[^\\t]*\\t[^\\t]*\\t[^\\t]*\\t[^\\t]*\\t[^\\t]*\\t[^\\t]*\\t[^\\t]*\\t[^\\t]*\\t[^\\t]*\\t[^\\t]*\\t[^\\t]*\\t[^\\t]*\\t[^\\t]*\\t[^\\t]*\\t[^\\t]*\\t[^\\t]*\\t[^\\t]*\\t[^\\t]*\\t[^\\t]*\\t[^\\t]*\\t[^\\t]*\\t[^\\t]*\")\n",
    "etiquettes=set()\n",
    "motsQu=set()\n",
    "\n",
    "for dossier, sous_dossiers, fichiers in os.walk('../data/Rhapsodie'):\n",
    "    for fichier in fichiers:\n",
    "        if fichier.endswith('.tabular'):#Pour tous les fichiers tabulaire du repertoire Rhapsodie\n",
    "            with open(os.path.join(dossier, fichier), 'r', encoding='UTF-8') as file :#On l'ouvre\n",
    "                texte=file.read()#On le lit\n",
    "                listLignes=ligneRG.findall(texte)#On récupère ce qui nous interesse\n",
    "                for ligne in listLignes:\n",
    "                    if ligne[3]=='Qu':\n",
    "                        motsQu.add(ligne[1])\n",
    "                    etiquettes.add(ligne[3])\n",
    "for e in sorted(list(motsQu)):\n",
    "    print(e)\n",
    "#for e in sorted(list(etiquettes)):\n",
    "    #print(e)"
   ]
  },
  {
   "cell_type": "code",
   "execution_count": 10,
   "metadata": {},
   "outputs": [
    {
     "name": "stdout",
     "output_type": "stream",
     "text": [
      "('combien', 'ADV')\n",
      "('comment', 'ADV')\n",
      "('dont', 'PRO')\n",
      "('laquelle', 'PRO')\n",
      "('lequel', 'PRO')\n",
      "('lesquelles', 'PRO')\n",
      "('n', 'N')\n",
      "('où', 'ADV')\n",
      "('où', 'PRO')\n",
      "('pourquoi', 'ADV')\n",
      "('quand', 'ADV')\n",
      "('quand', 'C')\n",
      "('que', 'ADV')\n",
      "('que', 'C')\n",
      "('que', 'PRO')\n",
      "('quel', 'D')\n",
      "('quelle', 'D')\n",
      "('quelles', 'D')\n",
      "('quels', 'A')\n",
      "('quels', 'D')\n",
      "('qui', 'PRO')\n",
      "('quoi', 'PRO')\n"
     ]
    }
   ],
   "source": [
    "import pathlib\n",
    "ens=set()\n",
    "mo=set()\n",
    "\n",
    "pathS=pathlib.Path('../data/sequoia-8.2/sequoia.deep_and_surf.conll')\n",
    "with open(pathS, 'r', encoding='UTF-8') as seq:\n",
    "    for ligne in seq:\n",
    "        if ligne.isspace() or ligne.startswith('#'):\n",
    "            continue\n",
    "        else:\n",
    "            col=ligne.split('\\t')\n",
    "            if col[1] in motsQu:\n",
    "                mo.add( (col[1], col[3]))\n",
    "            ens.add(col[3])\n",
    "for e in sorted(list(mo)):\n",
    "    print(e)\n",
    "#for e in sorted(list(ens)):\n",
    "    #print(e)"
   ]
  },
  {
   "cell_type": "code",
   "execution_count": null,
   "metadata": {
    "collapsed": true
   },
   "outputs": [],
   "source": []
  }
 ],
 "metadata": {
  "kernelspec": {
   "display_name": "Python 3",
   "language": "python",
   "name": "python3"
  },
  "language_info": {
   "codemirror_mode": {
    "name": "ipython",
    "version": 3
   },
   "file_extension": ".py",
   "mimetype": "text/x-python",
   "name": "python",
   "nbconvert_exporter": "python",
   "pygments_lexer": "ipython3",
   "version": "3.6.1"
  }
 },
 "nbformat": 4,
 "nbformat_minor": 2
}
